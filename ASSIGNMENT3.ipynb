{
 "cells": [
  {
   "cell_type": "code",
   "execution_count": 9,
   "id": "b660848f-2357-4419-8b10-533cddbc4648",
   "metadata": {},
   "outputs": [
    {
     "name": "stdout",
     "output_type": "stream",
     "text": [
      "Original list of tuples:\n",
      "[('Sachin Tendulkar', 34357), ('Ricky Ponting', 27483), ('Jack Kallis', 25534), ('Virat Kohli', 24936)]\n",
      "\n",
      "Sorting the List of Tuples:\n",
      "[('Virat Kohli', 24936), ('Jack Kallis', 25534), ('Ricky Ponting', 27483), ('Sachin Tendulkar', 34357)]\n"
     ]
    }
   ],
   "source": [
    "#Q-1 \n",
    "list_of_tuple = [('Sachin Tendulkar', 34357), ('Ricky Ponting', 27483), ('Jack Kallis', 25534), ('Virat Kohli', 24936)]\n",
    "print(\"Original list of tuples:\")\n",
    "print(list_of_tuple)\n",
    "list_of_tuple.sort(key = lambda x: x[1])\n",
    "print(\"\\nSorting the List of Tuples:\")\n",
    "print(list_of_tuple)\n"
   ]
  },
  {
   "cell_type": "code",
   "execution_count": 12,
   "id": "5d35f50f-dc47-4e6f-bcd1-9a2a1a15aa86",
   "metadata": {},
   "outputs": [],
   "source": [
    "# Q-2\n",
    "def sq(x):\n",
    "    return x**2"
   ]
  },
  {
   "cell_type": "code",
   "execution_count": 14,
   "id": "02858347-e26d-4f46-85f6-acc27240ea9e",
   "metadata": {},
   "outputs": [
    {
     "data": {
      "text/plain": [
       "[1, 4, 9, 16, 25, 36, 49, 64, 81, 100]"
      ]
     },
     "execution_count": 14,
     "metadata": {},
     "output_type": "execute_result"
    }
   ],
   "source": [
    "l4=[1, 2, 3, 4, 5, 6, 7, 8, 9, 10]\n",
    "list(map(sq,l4))"
   ]
  },
  {
   "cell_type": "code",
   "execution_count": 19,
   "id": "fdb21b39-e4dd-4fb2-8391-70505bc60a65",
   "metadata": {},
   "outputs": [
    {
     "name": "stdout",
     "output_type": "stream",
     "text": [
      "orignal list\n",
      "[1, 2, 3, 4, 5, 6, 7, 8, 9, 10]\n",
      "('1', '2', '3', '4', '5', '6', '7', '8', '9', '10')\n"
     ]
    }
   ],
   "source": [
    "# Q-3\n",
    "l1=[1,2,3,4,5,6,7,8,9,10]\n",
    "print('orignal list')\n",
    "print(l1)\n",
    "result=tuple(map(str,l1))\n",
    "print(result)"
   ]
  },
  {
   "cell_type": "code",
   "execution_count": 20,
   "id": "72016c95-c87f-49da-85a3-ef0ab183d225",
   "metadata": {},
   "outputs": [
    {
     "name": "stdout",
     "output_type": "stream",
     "text": [
      "Original list numbers:\n",
      "[1, 2, 3, 4, 5, 6, 7, 8, 9, 10, 11, 12, 13, 14, 15, 16, 17, 18, 19, 20, 21, 22, 23, 24]\n",
      "\n",
      "Product of the said numbers (without using for loop): 620448401733239439360000\n"
     ]
    }
   ],
   "source": [
    "#Q-4\n",
    "from functools import reduce\n",
    "nums = list(range(1,25))\n",
    "print(\"Original list numbers:\")\n",
    "print(nums)\n",
    "nums_product = reduce( (lambda x, y: x * y), nums)\n",
    "print(\"\\nProduct of the said numbers (without using for loop):\",nums_product)"
   ]
  },
  {
   "cell_type": "code",
   "execution_count": 22,
   "id": "4e602c9d-0d17-4d0b-8b0f-2c0ca835a6d8",
   "metadata": {},
   "outputs": [
    {
     "data": {
      "text/plain": [
       "[2, 6, 60, 90, 120, 46]"
      ]
     },
     "execution_count": 22,
     "metadata": {},
     "output_type": "execute_result"
    }
   ],
   "source": [
    "# Q-5\n",
    "l1=[2, 3, 6, 9, 27, 60, 90, 120, 55, 46]\n",
    "list(filter(lambda x:x%2==0,l1))"
   ]
  },
  {
   "cell_type": "code",
   "execution_count": 23,
   "id": "6aff8c9f-4caf-49a8-9a09-a94c7fdfb315",
   "metadata": {},
   "outputs": [
    {
     "name": "stdout",
     "output_type": "stream",
     "text": [
      "Orginal list of strings:\n",
      "['python', 'php', 'aba', 'radar', 'level']\n",
      "\n",
      "List of palindromes:\n",
      "['php', 'aba', 'radar', 'level']\n"
     ]
    }
   ],
   "source": [
    "# Q-6\n",
    "texts = ['python', 'php', 'aba', 'radar', 'level']\n",
    "print(\"Orginal list of strings:\")\n",
    "print(texts) \n",
    "result = list(filter(lambda x: (x == \"\".join(reversed(x))), texts)) \n",
    "print(\"\\nList of palindromes:\")\n",
    "print(result) "
   ]
  },
  {
   "cell_type": "code",
   "execution_count": null,
   "id": "1eedfa44-5ee0-4efe-8cf8-f05356491271",
   "metadata": {},
   "outputs": [],
   "source": []
  }
 ],
 "metadata": {
  "kernelspec": {
   "display_name": "Python 3 (ipykernel)",
   "language": "python",
   "name": "python3"
  },
  "language_info": {
   "codemirror_mode": {
    "name": "ipython",
    "version": 3
   },
   "file_extension": ".py",
   "mimetype": "text/x-python",
   "name": "python",
   "nbconvert_exporter": "python",
   "pygments_lexer": "ipython3",
   "version": "3.10.8"
  }
 },
 "nbformat": 4,
 "nbformat_minor": 5
}
